{
 "cells": [
  {
   "cell_type": "markdown",
   "metadata": {},
   "source": [
    "# Ensemble Modeling"
   ]
  },
  {
   "cell_type": "markdown",
   "metadata": {},
   "source": [
    "## Import Modules and Preparing the Dataset"
   ]
  },
  {
   "cell_type": "code",
   "execution_count": 1,
   "metadata": {},
   "outputs": [],
   "source": [
    "# import packages\n",
    "import pandas as pd\n",
    "import numpy as np\n",
    "import matplotlib.pyplot as plt\n",
    "%matplotlib inline\n",
    "from sklearn.model_selection import train_test_split\n",
    "from sklearn.metrics import accuracy_score\n",
    "import warnings\n",
    "warnings.filterwarnings(\"ignore\")"
   ]
  },
  {
   "cell_type": "code",
   "execution_count": 2,
   "metadata": {},
   "outputs": [
    {
     "data": {
      "text/html": [
       "<div>\n",
       "<style scoped>\n",
       "    .dataframe tbody tr th:only-of-type {\n",
       "        vertical-align: middle;\n",
       "    }\n",
       "\n",
       "    .dataframe tbody tr th {\n",
       "        vertical-align: top;\n",
       "    }\n",
       "\n",
       "    .dataframe thead th {\n",
       "        text-align: right;\n",
       "    }\n",
       "</style>\n",
       "<table border=\"1\" class=\"dataframe\">\n",
       "  <thead>\n",
       "    <tr style=\"text-align: right;\">\n",
       "      <th></th>\n",
       "      <th>PassengerId</th>\n",
       "      <th>Survived</th>\n",
       "      <th>Pclass</th>\n",
       "      <th>Name</th>\n",
       "      <th>Gender</th>\n",
       "      <th>Age</th>\n",
       "      <th>SibSp</th>\n",
       "      <th>Parch</th>\n",
       "      <th>Ticket</th>\n",
       "      <th>Fare</th>\n",
       "      <th>Cabin</th>\n",
       "      <th>Embarked</th>\n",
       "    </tr>\n",
       "  </thead>\n",
       "  <tbody>\n",
       "    <tr>\n",
       "      <th>0</th>\n",
       "      <td>1</td>\n",
       "      <td>0</td>\n",
       "      <td>3</td>\n",
       "      <td>Braund, Mr. Owen Harris</td>\n",
       "      <td>male</td>\n",
       "      <td>22.0</td>\n",
       "      <td>1</td>\n",
       "      <td>0</td>\n",
       "      <td>A/5 21171</td>\n",
       "      <td>7.2500</td>\n",
       "      <td>NaN</td>\n",
       "      <td>S</td>\n",
       "    </tr>\n",
       "    <tr>\n",
       "      <th>1</th>\n",
       "      <td>2</td>\n",
       "      <td>1</td>\n",
       "      <td>1</td>\n",
       "      <td>Cumings, Mrs. John Bradley (Florence Briggs Th...</td>\n",
       "      <td>female</td>\n",
       "      <td>38.0</td>\n",
       "      <td>1</td>\n",
       "      <td>0</td>\n",
       "      <td>PC 17599</td>\n",
       "      <td>71.2833</td>\n",
       "      <td>C85</td>\n",
       "      <td>C</td>\n",
       "    </tr>\n",
       "    <tr>\n",
       "      <th>2</th>\n",
       "      <td>3</td>\n",
       "      <td>1</td>\n",
       "      <td>3</td>\n",
       "      <td>Heikkinen, Miss. Laina</td>\n",
       "      <td>female</td>\n",
       "      <td>26.0</td>\n",
       "      <td>0</td>\n",
       "      <td>0</td>\n",
       "      <td>STON/O2. 3101282</td>\n",
       "      <td>7.9250</td>\n",
       "      <td>NaN</td>\n",
       "      <td>S</td>\n",
       "    </tr>\n",
       "    <tr>\n",
       "      <th>3</th>\n",
       "      <td>4</td>\n",
       "      <td>1</td>\n",
       "      <td>1</td>\n",
       "      <td>Futrelle, Mrs. Jacques Heath (Lily May Peel)</td>\n",
       "      <td>female</td>\n",
       "      <td>35.0</td>\n",
       "      <td>1</td>\n",
       "      <td>0</td>\n",
       "      <td>113803</td>\n",
       "      <td>53.1000</td>\n",
       "      <td>C123</td>\n",
       "      <td>S</td>\n",
       "    </tr>\n",
       "    <tr>\n",
       "      <th>4</th>\n",
       "      <td>5</td>\n",
       "      <td>0</td>\n",
       "      <td>3</td>\n",
       "      <td>Allen, Mr. William Henry</td>\n",
       "      <td>male</td>\n",
       "      <td>35.0</td>\n",
       "      <td>0</td>\n",
       "      <td>0</td>\n",
       "      <td>373450</td>\n",
       "      <td>8.0500</td>\n",
       "      <td>NaN</td>\n",
       "      <td>S</td>\n",
       "    </tr>\n",
       "  </tbody>\n",
       "</table>\n",
       "</div>"
      ],
      "text/plain": [
       "   PassengerId  Survived  Pclass  \\\n",
       "0            1         0       3   \n",
       "1            2         1       1   \n",
       "2            3         1       3   \n",
       "3            4         1       1   \n",
       "4            5         0       3   \n",
       "\n",
       "                                                Name  Gender   Age  SibSp  \\\n",
       "0                            Braund, Mr. Owen Harris    male  22.0      1   \n",
       "1  Cumings, Mrs. John Bradley (Florence Briggs Th...  female  38.0      1   \n",
       "2                             Heikkinen, Miss. Laina  female  26.0      0   \n",
       "3       Futrelle, Mrs. Jacques Heath (Lily May Peel)  female  35.0      1   \n",
       "4                           Allen, Mr. William Henry    male  35.0      0   \n",
       "\n",
       "   Parch            Ticket     Fare Cabin Embarked  \n",
       "0      0         A/5 21171   7.2500   NaN        S  \n",
       "1      0          PC 17599  71.2833   C85        C  \n",
       "2      0  STON/O2. 3101282   7.9250   NaN        S  \n",
       "3      0            113803  53.1000  C123        S  \n",
       "4      0            373450   8.0500   NaN        S  "
      ]
     },
     "execution_count": 2,
     "metadata": {},
     "output_type": "execute_result"
    }
   ],
   "source": [
    "# import data\n",
    "data = pd.read_csv('titanic.csv')\n",
    "data.head()"
   ]
  },
  {
   "cell_type": "code",
   "execution_count": 3,
   "metadata": {},
   "outputs": [],
   "source": [
    "# Creating a preprocessing function\n",
    "def preprocess(data):\n",
    "    def fix_age(age):\n",
    "        if np.isnan(age):\n",
    "            return -1\n",
    "        else:\n",
    "            return age\n",
    "    data.loc[:, 'Age'] = data.Age.apply(fix_age)\n",
    "    data.loc[:, 'Gender'] = data.Gender.apply(lambda s: int(s == 'female'))\n",
    "    embarked = pd.get_dummies(data.Embarked, prefix='Emb')[['Emb_C','Emb_Q','Emb_S']]\n",
    "    cols = ['Pclass','Gender','Age','SibSp','Parch','Fare']\n",
    "    return pd.concat([data[cols], embarked], axis=1).values"
   ]
  },
  {
   "cell_type": "code",
   "execution_count": 4,
   "metadata": {},
   "outputs": [
    {
     "name": "stdout",
     "output_type": "stream",
     "text": [
      "(712, 9)\n",
      "(712,)\n",
      "(179, 9)\n",
      "(179,)\n"
     ]
    }
   ],
   "source": [
    "# split the data in train and validation\n",
    "train, val = train_test_split(data, test_size=0.2, random_state=11)\n",
    "x_train = preprocess(train)\n",
    "y_train = train.Survived.values\n",
    "x_val = preprocess(val)\n",
    "y_val = val.Survived.values\n",
    "print(x_train.shape)\n",
    "print(y_train.shape)\n",
    "print(x_val.shape)\n",
    "print(y_val.shape)"
   ]
  },
  {
   "cell_type": "markdown",
   "metadata": {},
   "source": [
    "# Using the Bagging Classifier"
   ]
  },
  {
   "cell_type": "code",
   "execution_count": 5,
   "metadata": {},
   "outputs": [],
   "source": [
    "# import models\n",
    "from sklearn.tree import DecisionTreeClassifier\n",
    "from sklearn.ensemble import BaggingClassifier"
   ]
  },
  {
   "cell_type": "code",
   "execution_count": 6,
   "metadata": {},
   "outputs": [
    {
     "data": {
      "text/plain": [
       "BaggingClassifier(base_estimator=DecisionTreeClassifier(criterion='entropy',\n",
       "                                                        random_state=11),\n",
       "                  max_samples=0.5, n_estimators=50, n_jobs=-1, random_state=11)"
      ]
     },
     "execution_count": 6,
     "metadata": {},
     "output_type": "execute_result"
    }
   ],
   "source": [
    "# specifying hyperparameters and creating the models\n",
    "# decision tree parameters\n",
    "dt_params = {'criterion':'entropy',\n",
    "            'random_state': 11}\n",
    "\n",
    "dt = DecisionTreeClassifier(**dt_params)\n",
    "\n",
    "# bagging classifier parameters\n",
    "bc_params = {'base_estimator': dt,\n",
    "            'n_estimators': 50,\n",
    "            'max_samples': 0.5,\n",
    "            'random_state': 11,\n",
    "            'n_jobs': -1}\n",
    "\n",
    "bc = BaggingClassifier(**bc_params)\n",
    "bc.fit(x_train, y_train)"
   ]
  },
  {
   "cell_type": "code",
   "execution_count": 7,
   "metadata": {},
   "outputs": [
    {
     "name": "stdout",
     "output_type": "stream",
     "text": [
      "Bagging Classfier:\n",
      "Accuracy on trainig data = 0.9284\n",
      "Accuracy on validation data = 0.8715\n"
     ]
    }
   ],
   "source": [
    "# making predictions and calculating accuracy for Bagging Classifier\n",
    "bc_preds_train = bc.predict(x_train)\n",
    "bc_preds_val = bc.predict(x_val)\n",
    "\n",
    "print('Bagging Classfier:')\n",
    "print(f'Accuracy on trainig data = {round(accuracy_score(y_train, bc_preds_train), 4)}')\n",
    "print(f'Accuracy on validation data = {round(accuracy_score(y_val, bc_preds_val), 4)}')"
   ]
  },
  {
   "cell_type": "code",
   "execution_count": 8,
   "metadata": {},
   "outputs": [
    {
     "name": "stdout",
     "output_type": "stream",
     "text": [
      "Decision Tree:\n",
      "Accuracy on training data = 0.9831\n",
      "Accuracy on validation data = 0.7709\n"
     ]
    }
   ],
   "source": [
    "# making predictions and calculating accuracy for Decision Tree\n",
    "dt.fit(x_train, y_train)\n",
    "\n",
    "dt_preds_train = dt.predict(x_train)\n",
    "dt_preds_val = dt.predict(x_val)\n",
    "\n",
    "print('Decision Tree:')\n",
    "print(f'Accuracy on training data = {round(accuracy_score(y_train, dt_preds_train), 4)}')\n",
    "print(f'Accuracy on validation data = {round(accuracy_score(y_val, dt_preds_val), 4)}')"
   ]
  },
  {
   "cell_type": "markdown",
   "metadata": {},
   "source": [
    "## Building the Ensemble Model Using Random Forest"
   ]
  },
  {
   "cell_type": "code",
   "execution_count": 9,
   "metadata": {},
   "outputs": [],
   "source": [
    "# import model\n",
    "from sklearn.ensemble import RandomForestClassifier"
   ]
  },
  {
   "cell_type": "code",
   "execution_count": 10,
   "metadata": {},
   "outputs": [],
   "source": [
    "# specifying hyperparameters fo the model\n",
    "rf_params = {'n_estimators': 100,\n",
    "            'criterion': 'entropy',\n",
    "            'max_features': 0.5,\n",
    "            'min_samples_leaf': 10,\n",
    "            'random_state': 11,\n",
    "            'n_jobs': -1}"
   ]
  },
  {
   "cell_type": "code",
   "execution_count": 11,
   "metadata": {},
   "outputs": [],
   "source": [
    "# create the model\n",
    "rf = RandomForestClassifier(**rf_params)"
   ]
  },
  {
   "cell_type": "code",
   "execution_count": 12,
   "metadata": {},
   "outputs": [],
   "source": [
    "# fitting the model and making predictions\n",
    "rf.fit(x_train, y_train)\n",
    "\n",
    "rf_preds_train = rf.predict(x_train)\n",
    "rf_preds_val = rf.predict(x_val)"
   ]
  },
  {
   "cell_type": "code",
   "execution_count": 13,
   "metadata": {},
   "outputs": [
    {
     "name": "stdout",
     "output_type": "stream",
     "text": [
      "Random Forest:\n",
      "Accuracy on training data = 0.8385\n",
      "Accuracy on validation data = 0.8771\n"
     ]
    }
   ],
   "source": [
    "# calculate the accuracy\n",
    "print('Random Forest:')\n",
    "print(f'Accuracy on training data = {round(accuracy_score(y_train, rf_preds_train), 4)}')\n",
    "print(f'Accuracy on validation data = {round(accuracy_score(y_val, rf_preds_val), 4)}')"
   ]
  },
  {
   "cell_type": "code",
   "execution_count": 14,
   "metadata": {},
   "outputs": [],
   "source": [
    "# saving the model\n",
    "import pickle\n",
    "filename = 'random_forest_clf.sav'\n",
    "pickle.dump(rf, open(filename, 'wb'))"
   ]
  },
  {
   "cell_type": "markdown",
   "metadata": {},
   "source": [
    "## Implementing Adaptative Boosting"
   ]
  },
  {
   "cell_type": "code",
   "execution_count": 15,
   "metadata": {},
   "outputs": [],
   "source": [
    "# import model\n",
    "from sklearn.ensemble import AdaBoostClassifier"
   ]
  },
  {
   "cell_type": "code",
   "execution_count": 16,
   "metadata": {},
   "outputs": [],
   "source": [
    "# specifying the hyperparameters\n",
    "dt_params = {\n",
    "    'max_depth': 1,\n",
    "    'random_state': 11\n",
    "}\n",
    "dt = DecisionTreeClassifier(**dt_params)\n",
    "ab_params = {\n",
    "    'n_estimators': 100,\n",
    "    'base_estimator': dt,\n",
    "    'random_state': 11\n",
    "}"
   ]
  },
  {
   "cell_type": "code",
   "execution_count": 17,
   "metadata": {},
   "outputs": [],
   "source": [
    "# create the model\n",
    "ab = AdaBoostClassifier(**ab_params)"
   ]
  },
  {
   "cell_type": "code",
   "execution_count": 18,
   "metadata": {},
   "outputs": [],
   "source": [
    "# fitting the model and making predictions\n",
    "ab.fit(x_train, y_train)\n",
    "\n",
    "ab_preds_train = ab.predict(x_train)\n",
    "ab_preds_val = ab.predict(x_val)"
   ]
  },
  {
   "cell_type": "code",
   "execution_count": 19,
   "metadata": {},
   "outputs": [
    {
     "name": "stdout",
     "output_type": "stream",
     "text": [
      "Adaptative Boosting: \n",
      "\n",
      "Accuracy on training data: 0.8272\n",
      "Accuracy on validation data: 0.8547\n"
     ]
    }
   ],
   "source": [
    "# calculate accuracy\n",
    "print(f'Adaptative Boosting: \\n')\n",
    "print(f'Accuracy on training data: {round(accuracy_score(y_train, ab_preds_train), 4)}')\n",
    "print(f'Accuracy on validation data: {round(accuracy_score(y_val, ab_preds_val), 4)}')"
   ]
  },
  {
   "cell_type": "markdown",
   "metadata": {},
   "source": [
    "we claimed that the accuracy tends to increase with an increasing number of base estimators, but also that the model has a tendency to overfit if too many base estimators are used. Let's calculate the prediction accuracies so that we can find the point where the model begins to overfit the training data"
   ]
  },
  {
   "cell_type": "code",
   "execution_count": 20,
   "metadata": {},
   "outputs": [],
   "source": [
    "ab_params = {\n",
    "    'base_estimator': dt,\n",
    "    'random_state': 11\n",
    "}\n",
    "n_estimator_values = list(range(10, 210, 10))\n",
    "train_accuracies, val_accuracies = [], []\n",
    "for n_estimators in n_estimator_values:\n",
    "    ab = AdaBoostClassifier(n_estimators=n_estimators, **ab_params)\n",
    "    ab.fit(x_train, y_train)\n",
    "    ab_preds_train = ab.predict(x_train)\n",
    "    ab_preds_val = ab.predict(x_val)\n",
    "    train_accuracies.append(accuracy_score(y_true=y_train, y_pred=ab_preds_train))\n",
    "    val_accuracies.append(accuracy_score(y_true=y_val, y_pred=ab_preds_val))"
   ]
  },
  {
   "cell_type": "markdown",
   "metadata": {},
   "source": [
    "Plot a line graph to visualize the trend of the prediction accuracies on both the training and validation datasets"
   ]
  },
  {
   "cell_type": "code",
   "execution_count": 21,
   "metadata": {},
   "outputs": [
    {
     "data": {
      "image/png": "[encoded data removed]",
      "text/plain": [
       "<Figure size 720x504 with 1 Axes>"
      ]
     },
     "metadata": {
      "needs_background": "light"
     },
     "output_type": "display_data"
    }
   ],
   "source": [
    "plt.figure(figsize=(10,7))\n",
    "plt.plot(n_estimator_values, train_accuracies, label='Train')\n",
    "plt.plot(n_estimator_values, val_accuracies, label='Validation')\n",
    "plt.ylabel('Accuracy score')\n",
    "plt.xlabel('n_estimators')\n",
    "plt.legend()\n",
    "plt.show()"
   ]
  },
  {
   "cell_type": "markdown",
   "metadata": {},
   "source": [
    "## Implementing GradientBoostingClassifier to Build an Ensemble Model"
   ]
  },
  {
   "cell_type": "code",
   "execution_count": 22,
   "metadata": {},
   "outputs": [],
   "source": [
    "# import model\n",
    "from sklearn.ensemble import GradientBoostingClassifier"
   ]
  },
  {
   "cell_type": "code",
   "execution_count": 23,
   "metadata": {},
   "outputs": [],
   "source": [
    "# specifying the hyperparameters and creating the model\n",
    "gbc_params = {'n_estimators': 100,\n",
    "             'max_depth': 3,\n",
    "             'min_samples_leaf': 5,\n",
    "             'random_state': 11}\n",
    "\n",
    "gbc = GradientBoostingClassifier(**gbc_params)"
   ]
  },
  {
   "cell_type": "code",
   "execution_count": 24,
   "metadata": {},
   "outputs": [],
   "source": [
    "# fitting the model and making predictions\n",
    "gbc.fit(x_train, y_train)\n",
    "\n",
    "gbc_preds_train = gbc.predict(x_train)\n",
    "gbc_preds_val = gbc.predict(x_val)"
   ]
  },
  {
   "cell_type": "code",
   "execution_count": 25,
   "metadata": {},
   "outputs": [
    {
     "name": "stdout",
     "output_type": "stream",
     "text": [
      "Gradient Boosting Classifier\n",
      "Accuracy on training data = 0.8961\n",
      "Accuracy on validation data = 0.8771\n"
     ]
    }
   ],
   "source": [
    "print('Gradient Boosting Classifier')\n",
    "print(f'Accuracy on training data = {round(accuracy_score(y_train, gbc_preds_train), 4)}')\n",
    "print(f'Accuracy on validation data = {round(accuracy_score(y_val, gbc_preds_val), 4)}')"
   ]
  },
  {
   "cell_type": "markdown",
   "metadata": {},
   "source": [
    "## Building a Stacked Model"
   ]
  },
  {
   "cell_type": "code",
   "execution_count": 26,
   "metadata": {},
   "outputs": [],
   "source": [
    "# import models\n",
    "from sklearn.model_selection import KFold\n",
    "from sklearn.neighbors import KNeighborsClassifier\n",
    "from sklearn.svm import LinearSVC\n",
    "from sklearn.linear_model import LogisticRegression"
   ]
  },
  {
   "cell_type": "code",
   "execution_count": 27,
   "metadata": {},
   "outputs": [
    {
     "name": "stdout",
     "output_type": "stream",
     "text": [
      "[[ 3.  0. 16. ...  1. -1. -1.]\n",
      " [ 1.  0. 47. ...  1. -1. -1.]\n",
      " [ 3.  0. 32. ...  1. -1. -1.]\n",
      " ...\n",
      " [ 3.  0. 20. ...  1. -1. -1.]\n",
      " [ 3.  0. 22. ...  1. -1. -1.]\n",
      " [ 3.  0. 25. ...  0. -1. -1.]]\n"
     ]
    }
   ],
   "source": [
    "# creating a new training set with additional columns for predictions from base predictors\n",
    "x_train_metapreds = np.zeros((x_train.shape[0], x_train.shape[1]+2))\n",
    "x_train_metapreds[:, :-2] = x_train\n",
    "x_train_metapreds[:, -2:] = -1\n",
    "print(x_train_metapreds)"
   ]
  },
  {
   "cell_type": "code",
   "execution_count": 28,
   "metadata": {},
   "outputs": [],
   "source": [
    "# train base models with k fold\n",
    "kf = KFold(n_splits=5)\n",
    "\n",
    "for train_indices, val_indices in kf.split(x_train):\n",
    "    kfold_x_train, kfold_x_val = x_train[train_indices], x_train[val_indices]\n",
    "    kfold_y_train, kfold_y_val = y_train[train_indices], y_train[val_indices]\n",
    "    \n",
    "    svm = LinearSVC(random_state=11, max_iter=1000)\n",
    "    svm.fit(kfold_x_train, kfold_y_train)\n",
    "    svm_pred = svm.predict(kfold_x_val)\n",
    "    \n",
    "    knn = KNeighborsClassifier(n_neighbors=4)\n",
    "    knn.fit(kfold_x_train, kfold_y_train)\n",
    "    knn_pred = knn.predict(kfold_x_val)\n",
    "    \n",
    "    x_train_metapreds[val_indices, -2] = svm_pred\n",
    "    x_train_metapreds[val_indices, -1] = knn_pred"
   ]
  },
  {
   "cell_type": "code",
   "execution_count": 29,
   "metadata": {},
   "outputs": [
    {
     "name": "stdout",
     "output_type": "stream",
     "text": [
      "[[ 3.  1. -1. ...  1. -1. -1.]\n",
      " [ 3.  0. 27. ...  1. -1. -1.]\n",
      " [ 3.  0. -1. ...  0. -1. -1.]\n",
      " ...\n",
      " [ 3.  0. 22. ...  1. -1. -1.]\n",
      " [ 1.  0. -1. ...  1. -1. -1.]\n",
      " [ 1.  0. 25. ...  0. -1. -1.]]\n"
     ]
    }
   ],
   "source": [
    "# create a new validation set\n",
    "x_val_metapreds = np.zeros((x_val.shape[0], x_val.shape[1]+2))\n",
    "x_val_metapreds[:, :-2] = x_val\n",
    "x_val_metapreds[:, -2:] = -1\n",
    "print(x_val_metapreds)"
   ]
  },
  {
   "cell_type": "code",
   "execution_count": 30,
   "metadata": {},
   "outputs": [],
   "source": [
    "# fitting the model and making predictions\n",
    "svm = LinearSVC(random_state=11, max_iter=1000)\n",
    "svm.fit(x_train, y_train)\n",
    "\n",
    "knn = KNeighborsClassifier(n_neighbors=4)\n",
    "knn.fit(x_train, y_train)\n",
    "\n",
    "svm_pred = svm.predict(x_val)\n",
    "knn_pred = knn.predict(x_val)\n",
    "\n",
    "x_val_metapreds[:, -2] = svm_pred\n",
    "x_val_metapreds[:, -1] = knn_pred"
   ]
  },
  {
   "cell_type": "code",
   "execution_count": 31,
   "metadata": {},
   "outputs": [
    {
     "name": "stdout",
     "output_type": "stream",
     "text": [
      "Stacked Classifier:\n",
      "Accuracy on training data = 0.7907\n",
      "Accuracy on validation data = 0.838\n"
     ]
    }
   ],
   "source": [
    "# Train the stacked model and use the final predictions to calculate accuracy\n",
    "lr = LogisticRegression(random_state=11)\n",
    "lr.fit(x_train_metapreds, y_train)\n",
    "\n",
    "lr_preds_train = lr.predict(x_train_metapreds)\n",
    "lr_preds_val = lr.predict(x_val_metapreds)\n",
    "\n",
    "print('Stacked Classifier:')\n",
    "print(f'Accuracy on training data = {round(accuracy_score(y_true=y_train, y_pred=lr_preds_train), 4)}')\n",
    "print(f'Accuracy on validation data = {round(accuracy_score(y_true=y_val, y_pred=lr_preds_val), 4)}')"
   ]
  },
  {
   "cell_type": "code",
   "execution_count": 32,
   "metadata": {},
   "outputs": [
    {
     "name": "stdout",
     "output_type": "stream",
     "text": [
      "SVM:\n",
      "Accuracy on training data = 0.6531\n",
      "Accuracy on validation data = 0.6648\n",
      "kNN:\n",
      "Accuracy on training data = 0.7921\n",
      "Accuracy on validation data = 0.6816\n"
     ]
    }
   ],
   "source": [
    "# Compare the accuracy with that of base models\n",
    "print('SVM:')\n",
    "print(f'Accuracy on training data = {round(accuracy_score(y_true=y_train, y_pred=svm.predict(x_train)), 4)}')\n",
    "print(f'Accuracy on validation data = {round(accuracy_score(y_true=y_val, y_pred=svm_pred), 4)}')\n",
    "                                       \n",
    "print('kNN:')\n",
    "print(f'Accuracy on training data = {round(accuracy_score(y_true=y_train, y_pred=knn.predict(x_train)), 4)}')\n",
    "print(f'Accuracy on validation data = {round(accuracy_score(y_true=y_val, y_pred=knn_pred), 4)}')"
   ]
  },
  {
   "cell_type": "code",
   "execution_count": 33,
   "metadata": {},
   "outputs": [],
   "source": [
    "# saving the model\n",
    "filename = 'stacked_linear_regression.sav'\n",
    "pickle.dump(lr, open(filename, 'wb'))"
   ]
  }
 ],
 "metadata": {
  "kernelspec": {
   "display_name": "Python 3",
   "language": "python",
   "name": "python3"
  },
  "language_info": {
   "codemirror_mode": {
    "name": "ipython",
    "version": 3
   },
   "file_extension": ".py",
   "mimetype": "text/x-python",
   "name": "python",
   "nbconvert_exporter": "python",
   "pygments_lexer": "ipython3",
   "version": "3.7.7"
  }
 },
 "nbformat": 4,
 "nbformat_minor": 4
}
