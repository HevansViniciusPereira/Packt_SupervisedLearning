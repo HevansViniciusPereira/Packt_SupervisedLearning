{
 "cells": [
  {
   "cell_type": "markdown",
   "metadata": {},
   "source": [
    "# Calculating Regression Metrics"
   ]
  },
  {
   "cell_type": "code",
   "execution_count": 1,
   "metadata": {},
   "outputs": [],
   "source": [
    "# import packages\n",
    "import pandas as pd\n",
    "import numpy as np\n",
    "import pickle\n",
    "from sklearn.linear_model import LinearRegression\n",
    "import matplotlib.pyplot as plt\n",
    "%matplotlib inline\n",
    "import warnings\n",
    "warnings.filterwarnings('ignore')"
   ]
  },
  {
   "cell_type": "code",
   "execution_count": 2,
   "metadata": {},
   "outputs": [
    {
     "data": {
      "text/html": [
       "<div>\n",
       "<style scoped>\n",
       "    .dataframe tbody tr th:only-of-type {\n",
       "        vertical-align: middle;\n",
       "    }\n",
       "\n",
       "    .dataframe tbody tr th {\n",
       "        vertical-align: top;\n",
       "    }\n",
       "\n",
       "    .dataframe thead th {\n",
       "        text-align: right;\n",
       "    }\n",
       "</style>\n",
       "<table border=\"1\" class=\"dataframe\">\n",
       "  <thead>\n",
       "    <tr style=\"text-align: right;\">\n",
       "      <th></th>\n",
       "      <th>0</th>\n",
       "      <th>1</th>\n",
       "      <th>2</th>\n",
       "      <th>3</th>\n",
       "      <th>4</th>\n",
       "      <th>5</th>\n",
       "      <th>6</th>\n",
       "      <th>7</th>\n",
       "      <th>8</th>\n",
       "      <th>9</th>\n",
       "      <th>10</th>\n",
       "      <th>11</th>\n",
       "      <th>12</th>\n",
       "      <th>13</th>\n",
       "      <th>14</th>\n",
       "      <th>15</th>\n",
       "      <th>16</th>\n",
       "      <th>y</th>\n",
       "    </tr>\n",
       "  </thead>\n",
       "  <tbody>\n",
       "    <tr>\n",
       "      <th>0</th>\n",
       "      <td>0.04981</td>\n",
       "      <td>21.0</td>\n",
       "      <td>5.64</td>\n",
       "      <td>0.0</td>\n",
       "      <td>0.439</td>\n",
       "      <td>5.998</td>\n",
       "      <td>21.4</td>\n",
       "      <td>6.8147</td>\n",
       "      <td>4.0</td>\n",
       "      <td>243.0</td>\n",
       "      <td>16.8</td>\n",
       "      <td>396.90</td>\n",
       "      <td>8.43</td>\n",
       "      <td>-1.0</td>\n",
       "      <td>22.507577</td>\n",
       "      <td>27.08</td>\n",
       "      <td>19.40</td>\n",
       "      <td>23.4</td>\n",
       "    </tr>\n",
       "    <tr>\n",
       "      <th>1</th>\n",
       "      <td>0.20746</td>\n",
       "      <td>0.0</td>\n",
       "      <td>27.74</td>\n",
       "      <td>0.0</td>\n",
       "      <td>0.609</td>\n",
       "      <td>5.093</td>\n",
       "      <td>98.0</td>\n",
       "      <td>1.8226</td>\n",
       "      <td>4.0</td>\n",
       "      <td>711.0</td>\n",
       "      <td>20.1</td>\n",
       "      <td>318.43</td>\n",
       "      <td>29.68</td>\n",
       "      <td>-1.0</td>\n",
       "      <td>16.238796</td>\n",
       "      <td>17.46</td>\n",
       "      <td>16.55</td>\n",
       "      <td>8.1</td>\n",
       "    </tr>\n",
       "    <tr>\n",
       "      <th>2</th>\n",
       "      <td>0.11329</td>\n",
       "      <td>30.0</td>\n",
       "      <td>4.93</td>\n",
       "      <td>0.0</td>\n",
       "      <td>0.428</td>\n",
       "      <td>6.897</td>\n",
       "      <td>54.3</td>\n",
       "      <td>6.3361</td>\n",
       "      <td>6.0</td>\n",
       "      <td>300.0</td>\n",
       "      <td>16.6</td>\n",
       "      <td>391.25</td>\n",
       "      <td>11.38</td>\n",
       "      <td>-1.0</td>\n",
       "      <td>27.423950</td>\n",
       "      <td>21.84</td>\n",
       "      <td>28.20</td>\n",
       "      <td>22.0</td>\n",
       "    </tr>\n",
       "    <tr>\n",
       "      <th>3</th>\n",
       "      <td>19.60910</td>\n",
       "      <td>0.0</td>\n",
       "      <td>18.10</td>\n",
       "      <td>0.0</td>\n",
       "      <td>0.671</td>\n",
       "      <td>7.313</td>\n",
       "      <td>97.9</td>\n",
       "      <td>1.3163</td>\n",
       "      <td>24.0</td>\n",
       "      <td>666.0</td>\n",
       "      <td>20.2</td>\n",
       "      <td>396.90</td>\n",
       "      <td>13.44</td>\n",
       "      <td>-1.0</td>\n",
       "      <td>20.939772</td>\n",
       "      <td>10.50</td>\n",
       "      <td>28.20</td>\n",
       "      <td>15.0</td>\n",
       "    </tr>\n",
       "    <tr>\n",
       "      <th>4</th>\n",
       "      <td>25.94060</td>\n",
       "      <td>0.0</td>\n",
       "      <td>18.10</td>\n",
       "      <td>0.0</td>\n",
       "      <td>0.679</td>\n",
       "      <td>5.304</td>\n",
       "      <td>89.1</td>\n",
       "      <td>1.6475</td>\n",
       "      <td>24.0</td>\n",
       "      <td>666.0</td>\n",
       "      <td>20.2</td>\n",
       "      <td>127.36</td>\n",
       "      <td>26.64</td>\n",
       "      <td>-1.0</td>\n",
       "      <td>11.319594</td>\n",
       "      <td>14.70</td>\n",
       "      <td>10.20</td>\n",
       "      <td>10.4</td>\n",
       "    </tr>\n",
       "  </tbody>\n",
       "</table>\n",
       "</div>"
      ],
      "text/plain": [
       "          0     1      2    3      4      5     6       7     8      9    10  \\\n",
       "0   0.04981  21.0   5.64  0.0  0.439  5.998  21.4  6.8147   4.0  243.0  16.8   \n",
       "1   0.20746   0.0  27.74  0.0  0.609  5.093  98.0  1.8226   4.0  711.0  20.1   \n",
       "2   0.11329  30.0   4.93  0.0  0.428  6.897  54.3  6.3361   6.0  300.0  16.6   \n",
       "3  19.60910   0.0  18.10  0.0  0.671  7.313  97.9  1.3163  24.0  666.0  20.2   \n",
       "4  25.94060   0.0  18.10  0.0  0.679  5.304  89.1  1.6475  24.0  666.0  20.2   \n",
       "\n",
       "       11     12   13         14     15     16     y  \n",
       "0  396.90   8.43 -1.0  22.507577  27.08  19.40  23.4  \n",
       "1  318.43  29.68 -1.0  16.238796  17.46  16.55   8.1  \n",
       "2  391.25  11.38 -1.0  27.423950  21.84  28.20  22.0  \n",
       "3  396.90  13.44 -1.0  20.939772  10.50  28.20  15.0  \n",
       "4  127.36  26.64 -1.0  11.319594  14.70  10.20  10.4  "
      ]
     },
     "execution_count": 2,
     "metadata": {},
     "output_type": "execute_result"
    }
   ],
   "source": [
    "# load data\n",
    "house_prices_reg = pd.read_csv('boston_house_prices_regression.csv')\n",
    "house_prices_reg.head()"
   ]
  },
  {
   "cell_type": "code",
   "execution_count": 3,
   "metadata": {},
   "outputs": [],
   "source": [
    "# load the model\n",
    "reg = pickle.load(open('stacked_linear_regression.sav', 'rb'))"
   ]
  },
  {
   "cell_type": "code",
   "execution_count": 4,
   "metadata": {},
   "outputs": [],
   "source": [
    "# import metrics\n",
    "from sklearn.metrics import mean_absolute_error, mean_squared_error, r2_score\n",
    "from math import sqrt"
   ]
  },
  {
   "cell_type": "code",
   "execution_count": 5,
   "metadata": {},
   "outputs": [],
   "source": [
    "# use the load model to make prediction\n",
    "X = house_prices_reg.iloc[:, 0:11]\n",
    "y = house_prices_reg['y'].values\n",
    "y_pred = reg.predict(X)"
   ]
  },
  {
   "cell_type": "code",
   "execution_count": 6,
   "metadata": {},
   "outputs": [
    {
     "name": "stdout",
     "output_type": "stream",
     "text": [
      "Mean Absolute Error (MAE) = 20.995098039215687\n",
      "Root Mean Squared Error (RSME) = 526.5918627450981\n",
      "R2 squared = -5.13759731826339\n"
     ]
    }
   ],
   "source": [
    "# Calculate the MAE, RMSE e R2_squared\n",
    "print(f'Mean Absolute Error (MAE) = {mean_absolute_error(y, y_pred)}')\n",
    "print(f'Root Mean Squared Error (RSME) = {mean_squared_error(y, y_pred)}')\n",
    "print(f'R2 squared = {r2_score(y, y_pred)}')"
   ]
  },
  {
   "cell_type": "markdown",
   "metadata": {},
   "source": [
    "# Calculating Classification Metrics"
   ]
  },
  {
   "cell_type": "code",
   "execution_count": 7,
   "metadata": {},
   "outputs": [
    {
     "data": {
      "text/html": [
       "<div>\n",
       "<style scoped>\n",
       "    .dataframe tbody tr th:only-of-type {\n",
       "        vertical-align: middle;\n",
       "    }\n",
       "\n",
       "    .dataframe tbody tr th {\n",
       "        vertical-align: top;\n",
       "    }\n",
       "\n",
       "    .dataframe thead th {\n",
       "        text-align: right;\n",
       "    }\n",
       "</style>\n",
       "<table border=\"1\" class=\"dataframe\">\n",
       "  <thead>\n",
       "    <tr style=\"text-align: right;\">\n",
       "      <th></th>\n",
       "      <th>Pclass</th>\n",
       "      <th>Gender</th>\n",
       "      <th>Age</th>\n",
       "      <th>SibSp</th>\n",
       "      <th>Parch</th>\n",
       "      <th>Fare</th>\n",
       "      <th>Emb_C</th>\n",
       "      <th>Emb_Q</th>\n",
       "      <th>Emb_S</th>\n",
       "      <th>Survived</th>\n",
       "    </tr>\n",
       "  </thead>\n",
       "  <tbody>\n",
       "    <tr>\n",
       "      <th>0</th>\n",
       "      <td>3</td>\n",
       "      <td>0</td>\n",
       "      <td>22.0</td>\n",
       "      <td>1</td>\n",
       "      <td>0</td>\n",
       "      <td>7.2500</td>\n",
       "      <td>0</td>\n",
       "      <td>0</td>\n",
       "      <td>1</td>\n",
       "      <td>0</td>\n",
       "    </tr>\n",
       "    <tr>\n",
       "      <th>1</th>\n",
       "      <td>1</td>\n",
       "      <td>0</td>\n",
       "      <td>38.0</td>\n",
       "      <td>1</td>\n",
       "      <td>0</td>\n",
       "      <td>71.2833</td>\n",
       "      <td>1</td>\n",
       "      <td>0</td>\n",
       "      <td>0</td>\n",
       "      <td>1</td>\n",
       "    </tr>\n",
       "    <tr>\n",
       "      <th>2</th>\n",
       "      <td>3</td>\n",
       "      <td>0</td>\n",
       "      <td>26.0</td>\n",
       "      <td>0</td>\n",
       "      <td>0</td>\n",
       "      <td>7.9250</td>\n",
       "      <td>0</td>\n",
       "      <td>0</td>\n",
       "      <td>1</td>\n",
       "      <td>1</td>\n",
       "    </tr>\n",
       "    <tr>\n",
       "      <th>3</th>\n",
       "      <td>1</td>\n",
       "      <td>0</td>\n",
       "      <td>35.0</td>\n",
       "      <td>1</td>\n",
       "      <td>0</td>\n",
       "      <td>53.1000</td>\n",
       "      <td>0</td>\n",
       "      <td>0</td>\n",
       "      <td>1</td>\n",
       "      <td>1</td>\n",
       "    </tr>\n",
       "    <tr>\n",
       "      <th>4</th>\n",
       "      <td>3</td>\n",
       "      <td>0</td>\n",
       "      <td>35.0</td>\n",
       "      <td>0</td>\n",
       "      <td>0</td>\n",
       "      <td>8.0500</td>\n",
       "      <td>0</td>\n",
       "      <td>0</td>\n",
       "      <td>1</td>\n",
       "      <td>0</td>\n",
       "    </tr>\n",
       "  </tbody>\n",
       "</table>\n",
       "</div>"
      ],
      "text/plain": [
       "   Pclass  Gender   Age  SibSp  Parch     Fare  Emb_C  Emb_Q  Emb_S  Survived\n",
       "0       3       0  22.0      1      0   7.2500      0      0      1         0\n",
       "1       1       0  38.0      1      0  71.2833      1      0      0         1\n",
       "2       3       0  26.0      0      0   7.9250      0      0      1         1\n",
       "3       1       0  35.0      1      0  53.1000      0      0      1         1\n",
       "4       3       0  35.0      0      0   8.0500      0      0      1         0"
      ]
     },
     "execution_count": 7,
     "metadata": {},
     "output_type": "execute_result"
    }
   ],
   "source": [
    "# load data\n",
    "titanic_clf = pd.read_csv('titanic_classification.csv')\n",
    "titanic_clf.head()"
   ]
  },
  {
   "cell_type": "code",
   "execution_count": 8,
   "metadata": {},
   "outputs": [],
   "source": [
    "# load the model\n",
    "rf = pickle.load(open('random_forest_clf.sav', 'rb'))"
   ]
  },
  {
   "cell_type": "code",
   "execution_count": 9,
   "metadata": {},
   "outputs": [],
   "source": [
    "# import metrics\n",
    "from sklearn.metrics import accuracy_score, confusion_matrix, precision_score, recall_score, f1_score"
   ]
  },
  {
   "cell_type": "code",
   "execution_count": 10,
   "metadata": {},
   "outputs": [],
   "source": [
    "# useing the model to make predictions\n",
    "X = titanic_clf.iloc[:, :-1]\n",
    "y = titanic_clf.iloc[:, -1]\n",
    "y_pred = rf.predict(X)\n",
    "#y_preds_probs = rf.predict_probs(X)"
   ]
  },
  {
   "cell_type": "code",
   "execution_count": 11,
   "metadata": {},
   "outputs": [
    {
     "name": "stdout",
     "output_type": "stream",
     "text": [
      "Accuracy Score = 0.6464646464646465\n"
     ]
    }
   ],
   "source": [
    "# Calculate accuracy\n",
    "print(f'Accuracy Score = {accuracy_score(y, y_pred)}')"
   ]
  },
  {
   "cell_type": "code",
   "execution_count": 12,
   "metadata": {},
   "outputs": [
    {
     "name": "stdout",
     "output_type": "stream",
     "text": [
      "[[547   2]\n",
      " [313  29]]\n"
     ]
    }
   ],
   "source": [
    "print(confusion_matrix(y_true=y, y_pred=y_pred))"
   ]
  },
  {
   "cell_type": "code",
   "execution_count": 13,
   "metadata": {},
   "outputs": [
    {
     "name": "stdout",
     "output_type": "stream",
     "text": [
      "Precision score = 0.9354838709677419\n",
      "Recall score = 0.0847953216374269\n",
      "F1 score = 0.15549597855227879\n"
     ]
    }
   ],
   "source": [
    "# calculate precision, recall and f1_score\n",
    "print(f'Precision score = {precision_score(y, y_pred)}')\n",
    "print(f'Recall score = {recall_score(y, y_pred)}')\n",
    "print(f'F1 score = {f1_score(y, y_pred)}')"
   ]
  },
  {
   "cell_type": "markdown",
   "metadata": {},
   "source": [
    "# Performing K-Fold Cross-Validation with Stratified Sampling"
   ]
  },
  {
   "cell_type": "code",
   "execution_count": 14,
   "metadata": {},
   "outputs": [],
   "source": [
    "# import packages\n",
    "from sklearn.metrics import accuracy_score\n",
    "from sklearn.model_selection import StratifiedKFold\n",
    "from sklearn.ensemble import RandomForestClassifier"
   ]
  },
  {
   "cell_type": "code",
   "execution_count": 15,
   "metadata": {},
   "outputs": [],
   "source": [
    "# prepare the data\n",
    "X = titanic_clf.iloc[:, :-1]\n",
    "y = titanic_clf.iloc[:, -1]"
   ]
  },
  {
   "cell_type": "code",
   "execution_count": 16,
   "metadata": {},
   "outputs": [],
   "source": [
    "# initialize the KFold object\n",
    "skf = StratifiedKFold(n_splits=5)"
   ]
  },
  {
   "cell_type": "code",
   "execution_count": 17,
   "metadata": {},
   "outputs": [
    {
     "data": {
      "text/plain": [
       "[0.7130044843049327,\n",
       " 0.6681614349775785,\n",
       " 0.6995515695067265,\n",
       " 0.7892376681614349,\n",
       " 0.726457399103139]"
      ]
     },
     "execution_count": 17,
     "metadata": {},
     "output_type": "execute_result"
    }
   ],
   "source": [
    "# Train a classifier for each fold and record the score\n",
    "scores = []\n",
    "\n",
    "from sklearn.model_selection import train_test_split\n",
    "\n",
    "for train_index, val_index in skf.split(X, y):\n",
    "    X_train, X_val, y_train, y_val = train_test_split(X,y)\n",
    "    \n",
    "    rf_skf = RandomForestClassifier(**rf.get_params())\n",
    "    rf_skf.fit(X_train, y_train)\n",
    "    \n",
    "    y_pred = rf_skf.predict(X_val)\n",
    "    \n",
    "    scores.append(accuracy_score(y_val, y_pred))\n",
    "scores"
   ]
  },
  {
   "cell_type": "code",
   "execution_count": 18,
   "metadata": {},
   "outputs": [
    {
     "name": "stdout",
     "output_type": "stream",
     "text": [
      "Mean Accuracy Score = 0.7192825112107623\n"
     ]
    }
   ],
   "source": [
    "# calculate aggregated accuracy score\n",
    "print(f'Mean Accuracy Score = {np.mean(scores)}')"
   ]
  },
  {
   "cell_type": "markdown",
   "metadata": {},
   "source": [
    "# Hyperparameter Tuning with Random Search"
   ]
  },
  {
   "cell_type": "code",
   "execution_count": 19,
   "metadata": {},
   "outputs": [],
   "source": [
    "# import packages\n",
    "from sklearn.ensemble import RandomForestClassifier\n",
    "from sklearn.model_selection import RandomizedSearchCV"
   ]
  },
  {
   "cell_type": "code",
   "execution_count": 20,
   "metadata": {},
   "outputs": [],
   "source": [
    "# prepare data\n",
    "X = titanic_clf.iloc[:, :-1]\n",
    "y = titanic_clf.iloc[:, -1]"
   ]
  },
  {
   "cell_type": "code",
   "execution_count": 21,
   "metadata": {},
   "outputs": [],
   "source": [
    "# iniciate the model\n",
    "rf_rand = RandomForestClassifier()"
   ]
  },
  {
   "cell_type": "code",
   "execution_count": 22,
   "metadata": {},
   "outputs": [],
   "source": [
    "def report(results, max_rank=3):\n",
    "    for rank in range(1, max_rank+1):\n",
    "        results_at_rank = np.flatnonzero(results['rank_test_score'] == i)\n",
    "def report(results, n_top=3):\n",
    "    for i in range(1, n_top + 1):\n",
    "        candidates = np.flatnonzero(results['rank_test_score'] == i)\n",
    "        for candidate in candidates:\n",
    "            print(\"Model with rank: {0}\".format(i))\n",
    "            print(\"Mean validation score: {0:.3f} (std: {1:.3f})\".format(\n",
    "                  results['mean_test_score'][candidate],\n",
    "                  results['std_test_score'][candidate]))\n",
    "            print(\"Parameters: {0}\".format(results['params'][candidate]))\n",
    "            print(\"\")"
   ]
  },
  {
   "cell_type": "code",
   "execution_count": 23,
   "metadata": {},
   "outputs": [],
   "source": [
    "# defining the space of hyperparameters\n",
    "param_dist = {\"n_estimators\": list(range(10,210,10)),\n",
    "              \"max_depth\": list(range(3,20)),\n",
    "              \"max_features\": list(range(1, 10)),\n",
    "              \"min_samples_split\": list(range(2, 11)),\n",
    "              \"bootstrap\": [True, False],\n",
    "              \"criterion\": [\"gini\", \"entropy\"]}"
   ]
  },
  {
   "cell_type": "code",
   "execution_count": 24,
   "metadata": {},
   "outputs": [
    {
     "data": {
      "text/plain": [
       "RandomizedSearchCV(cv=5, estimator=RandomForestClassifier(), n_iter=60,\n",
       "                   param_distributions={'bootstrap': [True, False],\n",
       "                                        'criterion': ['gini', 'entropy'],\n",
       "                                        'max_depth': [3, 4, 5, 6, 7, 8, 9, 10,\n",
       "                                                      11, 12, 13, 14, 15, 16,\n",
       "                                                      17, 18, 19],\n",
       "                                        'max_features': [1, 2, 3, 4, 5, 6, 7, 8,\n",
       "                                                         9],\n",
       "                                        'min_samples_split': [2, 3, 4, 5, 6, 7,\n",
       "                                                              8, 9, 10],\n",
       "                                        'n_estimators': [10, 20, 30, 40, 50, 60,\n",
       "                                                         70, 80, 90, 100, 110,\n",
       "                                                         120, 130, 140, 150,\n",
       "                                                         160, 170, 180, 190,\n",
       "                                                         200]},\n",
       "                   scoring='accuracy')"
      ]
     },
     "execution_count": 24,
     "metadata": {},
     "output_type": "execute_result"
    }
   ],
   "source": [
    "# create the model\n",
    "n_iter_search = 60\n",
    "random_search = RandomizedSearchCV(rf_rand,\n",
    "                                  param_distributions=param_dist,\n",
    "                                  scoring='accuracy',\n",
    "                                  n_iter=n_iter_search,\n",
    "                                  cv=5)\n",
    "random_search.fit(X, y)"
   ]
  },
  {
   "cell_type": "code",
   "execution_count": 25,
   "metadata": {},
   "outputs": [
    {
     "name": "stdout",
     "output_type": "stream",
     "text": [
      "Model rank: 1\n",
      "Mean validation score: 0.725 (std: 0.054)\n",
      "Model Hyperparameters: {'n_estimators': 130, 'min_samples_split': 9, 'max_features': 8, 'max_depth': 6, 'criterion': 'entropy', 'bootstrap': True}\n",
      "\n",
      "Model rank: 2\n",
      "Mean validation score: 0.725 (std: 0.045)\n",
      "Model Hyperparameters: {'n_estimators': 120, 'min_samples_split': 4, 'max_features': 9, 'max_depth': 7, 'criterion': 'entropy', 'bootstrap': True}\n",
      "\n",
      "Model rank: 3\n",
      "Mean validation score: 0.724 (std: 0.053)\n",
      "Model Hyperparameters: {'n_estimators': 190, 'min_samples_split': 9, 'max_features': 4, 'max_depth': 8, 'criterion': 'gini', 'bootstrap': True}\n",
      "\n",
      "Model rank: 4\n",
      "Mean validation score: 0.721 (std: 0.046)\n",
      "Model Hyperparameters: {'n_estimators': 130, 'min_samples_split': 6, 'max_features': 5, 'max_depth': 10, 'criterion': 'entropy', 'bootstrap': True}\n",
      "\n",
      "Model rank: 5\n",
      "Mean validation score: 0.721 (std: 0.039)\n",
      "Model Hyperparameters: {'n_estimators': 60, 'min_samples_split': 5, 'max_features': 2, 'max_depth': 10, 'criterion': 'entropy', 'bootstrap': True}\n",
      "\n"
     ]
    }
   ],
   "source": [
    "# print the scores and hyperparameters for the top five models\n",
    "results = pd.DataFrame(random_search.cv_results_).sort_values('rank_test_score')\n",
    "for i, row in results.head().iterrows():\n",
    "    print(f\"Model rank: {row.rank_test_score}\")\n",
    "    print(f\"Mean validation score: {round(row.mean_test_score, 3)} (std: {round(row.std_test_score, 3)})\")\n",
    "    print(f\"Model Hyperparameters: {row.params}\\n\")"
   ]
  },
  {
   "cell_type": "code",
   "execution_count": 26,
   "metadata": {},
   "outputs": [
    {
     "name": "stdout",
     "output_type": "stream",
     "text": [
      "Model with rank: 1\n",
      "Mean validation score: 0.725 (std: 0.054)\n",
      "Parameters: {'n_estimators': 130, 'min_samples_split': 9, 'max_features': 8, 'max_depth': 6, 'criterion': 'entropy', 'bootstrap': True}\n",
      "\n",
      "Model with rank: 2\n",
      "Mean validation score: 0.725 (std: 0.045)\n",
      "Parameters: {'n_estimators': 120, 'min_samples_split': 4, 'max_features': 9, 'max_depth': 7, 'criterion': 'entropy', 'bootstrap': True}\n",
      "\n",
      "Model with rank: 3\n",
      "Mean validation score: 0.724 (std: 0.053)\n",
      "Parameters: {'n_estimators': 190, 'min_samples_split': 9, 'max_features': 4, 'max_depth': 8, 'criterion': 'gini', 'bootstrap': True}\n",
      "\n"
     ]
    }
   ],
   "source": [
    "# generate the report\n",
    "report(random_search.cv_results_)"
   ]
  },
  {
   "cell_type": "markdown",
   "metadata": {},
   "source": [
    "# Feature Importance using Random Forest"
   ]
  },
  {
   "cell_type": "code",
   "execution_count": 27,
   "metadata": {},
   "outputs": [],
   "source": [
    "# find feature importance\n",
    "feat_imps = pd.DataFrame({'importance':rf.feature_importances_}, index=titanic_clf.columns[:-1])\n",
    "feat_imps.sort_values(by='importance', ascending=False, inplace=True)"
   ]
  },
  {
   "cell_type": "code",
   "execution_count": 28,
   "metadata": {},
   "outputs": [
    {
     "data": {
      "image/png": "[encoded data removed]",
      "text/plain": [
       "<Figure size 720x504 with 1 Axes>"
      ]
     },
     "metadata": {
      "needs_background": "light"
     },
     "output_type": "display_data"
    }
   ],
   "source": [
    "# plot feature importance\n",
    "feat_imps.plot(kind='bar', figsize=(10,7))\n",
    "plt.legend()\n",
    "plt.show()"
   ]
  }
 ],
 "metadata": {
  "kernelspec": {
   "display_name": "Python 3",
   "language": "python",
   "name": "python3"
  },
  "language_info": {
   "codemirror_mode": {
    "name": "ipython",
    "version": 3
   },
   "file_extension": ".py",
   "mimetype": "text/x-python",
   "name": "python",
   "nbconvert_exporter": "python",
   "pygments_lexer": "ipython3",
   "version": "3.7.7"
  }
 },
 "nbformat": 4,
 "nbformat_minor": 4
}
